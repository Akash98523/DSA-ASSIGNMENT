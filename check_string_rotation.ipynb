{
 "cells": [
  {
   "cell_type": "code",
   "execution_count": 2,
   "metadata": {},
   "outputs": [
    {
     "name": "stdout",
     "output_type": "stream",
     "text": [
      "enter str1: abcde\n",
      "enter str2: deabc\n",
      "Second string is  a rotation of first string\n"
     ]
    }
   ],
   "source": [
    "str1=input(\"enter str1: \")\n",
    "str2=input(\"enter str2: \")\n",
    "if len(str1) !=len(str2):\n",
    "     print(\"Second string is not a rotation of first string\")\n",
    "else:\n",
    "    str1=str1+str1\n",
    "    if str2 in str1:\n",
    "         print(\"Second string is  a rotation of first string\") "
   ]
  },
  {
   "cell_type": "code",
   "execution_count": null,
   "metadata": {},
   "outputs": [],
   "source": []
  },
  {
   "cell_type": "code",
   "execution_count": null,
   "metadata": {},
   "outputs": [],
   "source": []
  }
 ],
 "metadata": {
  "kernelspec": {
   "display_name": "Python 3",
   "language": "python",
   "name": "python3"
  },
  "language_info": {
   "codemirror_mode": {
    "name": "ipython",
    "version": 3
   },
   "file_extension": ".py",
   "mimetype": "text/x-python",
   "name": "python",
   "nbconvert_exporter": "python",
   "pygments_lexer": "ipython3",
   "version": "3.8.5"
  }
 },
 "nbformat": 4,
 "nbformat_minor": 4
}
