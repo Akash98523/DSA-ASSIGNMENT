{
 "cells": [
  {
   "cell_type": "code",
   "execution_count": 3,
   "metadata": {},
   "outputs": [
    {
     "name": "stdout",
     "output_type": "stream",
     "text": [
      "Enter the given number5\n",
      "list1 size: 2\n",
      "list2 size: 3\n",
      "list3 size3: 4\n",
      "[[0, 1, 4], [0, 2, 3], [0, 3, 2], [1, 0, 4], [1, 1, 3], [1, 2, 2], [1, 3, 1], [2, 0, 3], [2, 1, 2], [2, 2, 1], [2, 3, 0]]\n"
     ]
    }
   ],
   "source": [
    "n=int(input(\"Enter the given number\"))\n",
    "x=int(input(\"list1 size: \"))\n",
    "y=int(input(\"list2 size: \"))\n",
    "z=int(input(\"list3 size3: \"))\n",
    "x1=[i for i in range(0,x+1)]\n",
    "y1=[j for j in range(0,y+1)]\n",
    "z1=[k for k in range(0,z+1)]\n",
    "pers=[[i,j,k] for i in x1 for j in y1 for k in z1]\n",
    "req=[l for l in pers if sum(l) ==n]\n",
    "print(req)"
   ]
  },
  {
   "cell_type": "code",
   "execution_count": null,
   "metadata": {},
   "outputs": [],
   "source": []
  },
  {
   "cell_type": "code",
   "execution_count": null,
   "metadata": {},
   "outputs": [],
   "source": []
  }
 ],
 "metadata": {
  "kernelspec": {
   "display_name": "Python 3",
   "language": "python",
   "name": "python3"
  },
  "language_info": {
   "codemirror_mode": {
    "name": "ipython",
    "version": 3
   },
   "file_extension": ".py",
   "mimetype": "text/x-python",
   "name": "python",
   "nbconvert_exporter": "python",
   "pygments_lexer": "ipython3",
   "version": "3.8.5"
  }
 },
 "nbformat": 4,
 "nbformat_minor": 4
}
